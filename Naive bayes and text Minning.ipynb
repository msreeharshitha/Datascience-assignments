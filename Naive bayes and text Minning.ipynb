{
 "cells": [
  {
   "cell_type": "markdown",
   "id": "cf4811f0-2474-4446-ae90-e67ed264a6a0",
   "metadata": {},
   "source": [
    "#  Data Exploration and Preprocessing"
   ]
  },
  {
   "cell_type": "markdown",
   "id": "45bf0013-6660-408f-a600-19b0a79f2fb0",
   "metadata": {},
   "source": [
    "Loading the \"blogs_categories.csv\" dataset and perform an exploratory data analysis to understand its structure and content."
   ]
  },
  {
   "cell_type": "code",
   "execution_count": 1,
   "id": "011fcaed-33b1-4023-8076-15c4d6b0844f",
   "metadata": {},
   "outputs": [
    {
     "data": {
      "text/html": [
       "<div>\n",
       "<style scoped>\n",
       "    .dataframe tbody tr th:only-of-type {\n",
       "        vertical-align: middle;\n",
       "    }\n",
       "\n",
       "    .dataframe tbody tr th {\n",
       "        vertical-align: top;\n",
       "    }\n",
       "\n",
       "    .dataframe thead th {\n",
       "        text-align: right;\n",
       "    }\n",
       "</style>\n",
       "<table border=\"1\" class=\"dataframe\">\n",
       "  <thead>\n",
       "    <tr style=\"text-align: right;\">\n",
       "      <th></th>\n",
       "      <th>Data</th>\n",
       "      <th>Labels</th>\n",
       "    </tr>\n",
       "  </thead>\n",
       "  <tbody>\n",
       "    <tr>\n",
       "      <th>0</th>\n",
       "      <td>Path: cantaloupe.srv.cs.cmu.edu!magnesium.club...</td>\n",
       "      <td>alt.atheism</td>\n",
       "    </tr>\n",
       "    <tr>\n",
       "      <th>1</th>\n",
       "      <td>Newsgroups: alt.atheism\\nPath: cantaloupe.srv....</td>\n",
       "      <td>alt.atheism</td>\n",
       "    </tr>\n",
       "    <tr>\n",
       "      <th>2</th>\n",
       "      <td>Path: cantaloupe.srv.cs.cmu.edu!das-news.harva...</td>\n",
       "      <td>alt.atheism</td>\n",
       "    </tr>\n",
       "    <tr>\n",
       "      <th>3</th>\n",
       "      <td>Path: cantaloupe.srv.cs.cmu.edu!magnesium.club...</td>\n",
       "      <td>alt.atheism</td>\n",
       "    </tr>\n",
       "    <tr>\n",
       "      <th>4</th>\n",
       "      <td>Xref: cantaloupe.srv.cs.cmu.edu alt.atheism:53...</td>\n",
       "      <td>alt.atheism</td>\n",
       "    </tr>\n",
       "    <tr>\n",
       "      <th>...</th>\n",
       "      <td>...</td>\n",
       "      <td>...</td>\n",
       "    </tr>\n",
       "    <tr>\n",
       "      <th>1995</th>\n",
       "      <td>Xref: cantaloupe.srv.cs.cmu.edu talk.abortion:...</td>\n",
       "      <td>talk.religion.misc</td>\n",
       "    </tr>\n",
       "    <tr>\n",
       "      <th>1996</th>\n",
       "      <td>Xref: cantaloupe.srv.cs.cmu.edu talk.religion....</td>\n",
       "      <td>talk.religion.misc</td>\n",
       "    </tr>\n",
       "    <tr>\n",
       "      <th>1997</th>\n",
       "      <td>Xref: cantaloupe.srv.cs.cmu.edu talk.origins:4...</td>\n",
       "      <td>talk.religion.misc</td>\n",
       "    </tr>\n",
       "    <tr>\n",
       "      <th>1998</th>\n",
       "      <td>Xref: cantaloupe.srv.cs.cmu.edu talk.religion....</td>\n",
       "      <td>talk.religion.misc</td>\n",
       "    </tr>\n",
       "    <tr>\n",
       "      <th>1999</th>\n",
       "      <td>Xref: cantaloupe.srv.cs.cmu.edu sci.skeptic:43...</td>\n",
       "      <td>talk.religion.misc</td>\n",
       "    </tr>\n",
       "  </tbody>\n",
       "</table>\n",
       "<p>2000 rows × 2 columns</p>\n",
       "</div>"
      ],
      "text/plain": [
       "                                                   Data              Labels\n",
       "0     Path: cantaloupe.srv.cs.cmu.edu!magnesium.club...         alt.atheism\n",
       "1     Newsgroups: alt.atheism\\nPath: cantaloupe.srv....         alt.atheism\n",
       "2     Path: cantaloupe.srv.cs.cmu.edu!das-news.harva...         alt.atheism\n",
       "3     Path: cantaloupe.srv.cs.cmu.edu!magnesium.club...         alt.atheism\n",
       "4     Xref: cantaloupe.srv.cs.cmu.edu alt.atheism:53...         alt.atheism\n",
       "...                                                 ...                 ...\n",
       "1995  Xref: cantaloupe.srv.cs.cmu.edu talk.abortion:...  talk.religion.misc\n",
       "1996  Xref: cantaloupe.srv.cs.cmu.edu talk.religion....  talk.religion.misc\n",
       "1997  Xref: cantaloupe.srv.cs.cmu.edu talk.origins:4...  talk.religion.misc\n",
       "1998  Xref: cantaloupe.srv.cs.cmu.edu talk.religion....  talk.religion.misc\n",
       "1999  Xref: cantaloupe.srv.cs.cmu.edu sci.skeptic:43...  talk.religion.misc\n",
       "\n",
       "[2000 rows x 2 columns]"
      ]
     },
     "execution_count": 1,
     "metadata": {},
     "output_type": "execute_result"
    }
   ],
   "source": [
    "import pandas as pd \n",
    "import numpy as np\n",
    "df=pd.read_csv(\"blogs.csv\")\n",
    "df"
   ]
  },
  {
   "cell_type": "code",
   "execution_count": 2,
   "id": "7bcaa2d1-9326-4431-bcb1-5f1f7af1011d",
   "metadata": {},
   "outputs": [
    {
     "data": {
      "text/html": [
       "<div>\n",
       "<style scoped>\n",
       "    .dataframe tbody tr th:only-of-type {\n",
       "        vertical-align: middle;\n",
       "    }\n",
       "\n",
       "    .dataframe tbody tr th {\n",
       "        vertical-align: top;\n",
       "    }\n",
       "\n",
       "    .dataframe thead th {\n",
       "        text-align: right;\n",
       "    }\n",
       "</style>\n",
       "<table border=\"1\" class=\"dataframe\">\n",
       "  <thead>\n",
       "    <tr style=\"text-align: right;\">\n",
       "      <th></th>\n",
       "      <th>Data</th>\n",
       "      <th>Labels</th>\n",
       "    </tr>\n",
       "  </thead>\n",
       "  <tbody>\n",
       "    <tr>\n",
       "      <th>0</th>\n",
       "      <td>Path: cantaloupe.srv.cs.cmu.edu!magnesium.club...</td>\n",
       "      <td>alt.atheism</td>\n",
       "    </tr>\n",
       "    <tr>\n",
       "      <th>1</th>\n",
       "      <td>Newsgroups: alt.atheism\\nPath: cantaloupe.srv....</td>\n",
       "      <td>alt.atheism</td>\n",
       "    </tr>\n",
       "    <tr>\n",
       "      <th>2</th>\n",
       "      <td>Path: cantaloupe.srv.cs.cmu.edu!das-news.harva...</td>\n",
       "      <td>alt.atheism</td>\n",
       "    </tr>\n",
       "    <tr>\n",
       "      <th>3</th>\n",
       "      <td>Path: cantaloupe.srv.cs.cmu.edu!magnesium.club...</td>\n",
       "      <td>alt.atheism</td>\n",
       "    </tr>\n",
       "    <tr>\n",
       "      <th>4</th>\n",
       "      <td>Xref: cantaloupe.srv.cs.cmu.edu alt.atheism:53...</td>\n",
       "      <td>alt.atheism</td>\n",
       "    </tr>\n",
       "  </tbody>\n",
       "</table>\n",
       "</div>"
      ],
      "text/plain": [
       "                                                Data       Labels\n",
       "0  Path: cantaloupe.srv.cs.cmu.edu!magnesium.club...  alt.atheism\n",
       "1  Newsgroups: alt.atheism\\nPath: cantaloupe.srv....  alt.atheism\n",
       "2  Path: cantaloupe.srv.cs.cmu.edu!das-news.harva...  alt.atheism\n",
       "3  Path: cantaloupe.srv.cs.cmu.edu!magnesium.club...  alt.atheism\n",
       "4  Xref: cantaloupe.srv.cs.cmu.edu alt.atheism:53...  alt.atheism"
      ]
     },
     "execution_count": 2,
     "metadata": {},
     "output_type": "execute_result"
    }
   ],
   "source": [
    "df.head()"
   ]
  },
  {
   "cell_type": "markdown",
   "id": "44649227-0d30-4e5a-b3b6-4a94f543f20b",
   "metadata": {},
   "source": [
    "checking no.of rows and columns"
   ]
  },
  {
   "cell_type": "code",
   "execution_count": 19,
   "id": "9ebe8306-a55a-4a10-b375-463b24801d1d",
   "metadata": {},
   "outputs": [
    {
     "data": {
      "text/plain": [
       "(2000, 3)"
      ]
     },
     "execution_count": 19,
     "metadata": {},
     "output_type": "execute_result"
    }
   ],
   "source": [
    "df.shape"
   ]
  },
  {
   "cell_type": "markdown",
   "id": "c460d948-1817-4c89-9f19-9f9f0cf79e2d",
   "metadata": {},
   "source": [
    "checking the datatype of features and non-null count"
   ]
  },
  {
   "cell_type": "code",
   "execution_count": 20,
   "id": "b0c74b4d-6fa9-4882-87f3-066475b6b266",
   "metadata": {},
   "outputs": [
    {
     "name": "stdout",
     "output_type": "stream",
     "text": [
      "<class 'pandas.core.frame.DataFrame'>\n",
      "RangeIndex: 2000 entries, 0 to 1999\n",
      "Data columns (total 3 columns):\n",
      " #   Column     Non-Null Count  Dtype \n",
      "---  ------     --------------  ----- \n",
      " 0   Data       2000 non-null   object\n",
      " 1   Labels     2000 non-null   object\n",
      " 2   Sentiment  2000 non-null   object\n",
      "dtypes: object(3)\n",
      "memory usage: 47.0+ KB\n"
     ]
    }
   ],
   "source": [
    "df.info()"
   ]
  },
  {
   "cell_type": "markdown",
   "id": "0b144bfc-17b8-484c-a991-a3524e5889a7",
   "metadata": {},
   "source": [
    "checking missing values "
   ]
  },
  {
   "cell_type": "code",
   "execution_count": 22,
   "id": "095ed84c-c065-45c6-ad60-d1ab2642f7a6",
   "metadata": {},
   "outputs": [
    {
     "data": {
      "text/plain": [
       "Data         0\n",
       "Labels       0\n",
       "Sentiment    0\n",
       "dtype: int64"
      ]
     },
     "execution_count": 22,
     "metadata": {},
     "output_type": "execute_result"
    }
   ],
   "source": [
    "df.isna().sum()"
   ]
  },
  {
   "cell_type": "markdown",
   "id": "cdbe7434-8d1c-4119-a22a-4bf5a50ed8ed",
   "metadata": {},
   "source": [
    "Preprocess the data by cleaning the text (removing punctuation, converting to lowercase, etc.), tokenizing, and removing stopwords.\n",
    "Perform feature extraction to convert text data into a format that can be used by the Naive Bayes model, using techniques such as TF-IDF.\n",
    "# so i have used tfidvectorizer which can removing punctuation, converting to lowercase, tokenizing, and removing stopwords and also coverting into numerical form\n"
   ]
  },
  {
   "cell_type": "code",
   "execution_count": 3,
   "id": "8ee534b3-d937-440b-a3c8-0b86b8be4af8",
   "metadata": {},
   "outputs": [
    {
     "data": {
      "text/plain": [
       "<2000x51096 sparse matrix of type '<class 'numpy.float64'>'\n",
       "\twith 312644 stored elements in Compressed Sparse Row format>"
      ]
     },
     "execution_count": 3,
     "metadata": {},
     "output_type": "execute_result"
    }
   ],
   "source": [
    "from sklearn.feature_extraction.text import TfidfVectorizer\n",
    "x = TfidfVectorizer(stop_words='english').fit_transform(df['Data'])  # 'stop_words' removes common words like 'the', 'and'\n",
    "x"
   ]
  },
  {
   "cell_type": "code",
   "execution_count": 4,
   "id": "2b41aba0-bb66-4fe4-a0c9-5a076032eaf0",
   "metadata": {
    "scrolled": true
   },
   "outputs": [
    {
     "name": "stdout",
     "output_type": "stream",
     "text": [
      "[[0.         0.         0.         ... 0.         0.         0.        ]\n",
      " [0.         0.         0.         ... 0.         0.         0.        ]\n",
      " [0.         0.         0.         ... 0.         0.         0.        ]\n",
      " ...\n",
      " [0.         0.         0.         ... 0.         0.         0.        ]\n",
      " [0.         0.         0.         ... 0.         0.         0.        ]\n",
      " [0.01855593 0.         0.         ... 0.         0.         0.        ]]\n"
     ]
    }
   ],
   "source": [
    "dense_matrix = x.toarray()  # Convert sparse matrix to dense format\n",
    "print(dense_matrix)\n",
    "  "
   ]
  },
  {
   "cell_type": "code",
   "execution_count": 5,
   "id": "a9d65bc1-2d4a-4040-b4f4-d88119174f37",
   "metadata": {},
   "outputs": [
    {
     "data": {
      "text/plain": [
       "0              alt.atheism\n",
       "1              alt.atheism\n",
       "2              alt.atheism\n",
       "3              alt.atheism\n",
       "4              alt.atheism\n",
       "               ...        \n",
       "1995    talk.religion.misc\n",
       "1996    talk.religion.misc\n",
       "1997    talk.religion.misc\n",
       "1998    talk.religion.misc\n",
       "1999    talk.religion.misc\n",
       "Name: Labels, Length: 2000, dtype: object"
      ]
     },
     "execution_count": 5,
     "metadata": {},
     "output_type": "execute_result"
    }
   ],
   "source": [
    "y=df['Labels']\n",
    "y"
   ]
  },
  {
   "cell_type": "code",
   "execution_count": 6,
   "id": "faaad932-6d9c-4617-92a8-4cb3deaaa062",
   "metadata": {},
   "outputs": [
    {
     "data": {
      "text/plain": [
       "array(['alt.atheism', 'comp.graphics', 'comp.os.ms-windows.misc',\n",
       "       'comp.sys.ibm.pc.hardware', 'comp.sys.mac.hardware',\n",
       "       'comp.windows.x', 'misc.forsale', 'rec.autos', 'rec.motorcycles',\n",
       "       'rec.sport.baseball', 'rec.sport.hockey', 'sci.crypt',\n",
       "       'sci.electronics', 'sci.med', 'sci.space',\n",
       "       'soc.religion.christian', 'talk.politics.guns',\n",
       "       'talk.politics.mideast', 'talk.politics.misc',\n",
       "       'talk.religion.misc'], dtype=object)"
      ]
     },
     "execution_count": 6,
     "metadata": {},
     "output_type": "execute_result"
    }
   ],
   "source": [
    "df['Labels'].unique()"
   ]
  },
  {
   "cell_type": "markdown",
   "id": "741a74b4-7fa9-4f37-893b-4ca79d36c8e8",
   "metadata": {},
   "source": [
    "coverting the target variable to labelencoder which can convert into numerical form and also make fitting into model "
   ]
  },
  {
   "cell_type": "code",
   "execution_count": 7,
   "id": "5138b537-bd2a-4e2d-b60f-68913094f05d",
   "metadata": {},
   "outputs": [
    {
     "data": {
      "text/plain": [
       "array([ 0,  0,  0, ..., 19, 19, 19])"
      ]
     },
     "execution_count": 7,
     "metadata": {},
     "output_type": "execute_result"
    }
   ],
   "source": [
    "from sklearn.preprocessing import LabelEncoder\n",
    "y_df=LabelEncoder().fit_transform(y)\n",
    "y_df"
   ]
  },
  {
   "cell_type": "markdown",
   "id": "418248bf-5bc2-4e5a-9948-b930490e82af",
   "metadata": {},
   "source": [
    "# Naive Bayes Model for Text Classification\n",
    "\n",
    "Split the data into training and test sets."
   ]
  },
  {
   "cell_type": "code",
   "execution_count": 8,
   "id": "3e04fc2f-1118-47b3-888d-df6017c7c788",
   "metadata": {},
   "outputs": [
    {
     "name": "stdout",
     "output_type": "stream",
     "text": [
      "x_train:   (0, 26056)\t0.14189030943272113\n",
      "  (0, 30690)\t0.12878173684436658\n",
      "  (0, 47633)\t0.14189030943272113\n",
      "  (0, 11)\t0.14955833283488978\n",
      "  (0, 32306)\t0.14955833283488978\n",
      "  (0, 19948)\t0.25756347368873317\n",
      "  (0, 14848)\t0.14955833283488978\n",
      "  (0, 47489)\t0.29911666566977957\n",
      "  (0, 47490)\t0.29911666566977957\n",
      "  (0, 33094)\t0.14955833283488978\n",
      "  (0, 44805)\t0.11912116985811903\n",
      "  (0, 31867)\t0.13644976024653524\n",
      "  (0, 16057)\t0.13644976024653524\n",
      "  (0, 32817)\t0.13222974244647356\n",
      "  (0, 44802)\t0.22831884553832324\n",
      "  (0, 39655)\t0.14189030943272113\n",
      "  (0, 44187)\t0.06136489918757282\n",
      "  (0, 13944)\t0.07293230218758116\n",
      "  (0, 51026)\t0.21017978731130924\n",
      "  (0, 16525)\t0.09387406667484614\n",
      "  (0, 18993)\t0.12586648964617783\n",
      "  (0, 40174)\t0.11567316425601205\n",
      "  (0, 19071)\t0.2644594848929471\n",
      "  (0, 364)\t0.09834457386759583\n",
      "  (0, 19724)\t0.11023261506982616\n",
      "  :\t:\n",
      "  (1599, 38214)\t0.0452122383114489\n",
      "  (1599, 46265)\t0.10492592154864856\n",
      "  (1599, 27465)\t0.02681952531388639\n",
      "  (1599, 38431)\t0.026081974048705065\n",
      "  (1599, 35506)\t0.02685318370597527\n",
      "  (1599, 27950)\t0.014641394110692698\n",
      "  (1599, 33467)\t0.014641394110692698\n",
      "  (1599, 31739)\t0.014685362294217469\n",
      "  (1599, 36482)\t0.015200720874333712\n",
      "  (1599, 12763)\t0.015933333001411434\n",
      "  (1599, 5110)\t0.036984985885270584\n",
      "  (1599, 19880)\t0.014641394110692698\n",
      "  (1599, 44924)\t0.014641394110692698\n",
      "  (1599, 35282)\t0.014641394110692698\n",
      "  (1599, 35181)\t0.07670603682827962\n",
      "  (1599, 12538)\t0.02290462681082317\n",
      "  (1599, 40965)\t0.022969098047142658\n",
      "  (1599, 27514)\t0.022982026431303374\n",
      "  (1599, 35265)\t0.034630453520091295\n",
      "  (1599, 22197)\t0.1024897587748489\n",
      "  (1599, 17880)\t0.014641394110692698\n",
      "  (1599, 19338)\t0.029282788221385397\n",
      "  (1599, 44307)\t0.014641394110692698\n",
      "  (1599, 16634)\t0.014641394110692698\n",
      "  (1599, 37230)\t0.014641394110692698\n",
      "x_test:   (0, 33528)\t0.08465409485966938\n",
      "  (0, 6258)\t0.08465409485966938\n",
      "  (0, 35848)\t0.08465409485966938\n",
      "  (0, 29391)\t0.16930818971933875\n",
      "  (0, 15981)\t0.16930818971933875\n",
      "  (0, 3999)\t0.08465409485966938\n",
      "  (0, 41365)\t0.08465409485966938\n",
      "  (0, 44439)\t0.16062756901209962\n",
      "  (0, 49439)\t0.16062756901209962\n",
      "  (0, 5605)\t0.08465409485966938\n",
      "  (0, 2880)\t0.08465409485966938\n",
      "  (0, 6935)\t0.08465409485966938\n",
      "  (0, 4402)\t0.08031378450604981\n",
      "  (0, 33218)\t0.08031378450604981\n",
      "  (0, 31756)\t0.29938256058767926\n",
      "  (0, 32569)\t0.29938256058767926\n",
      "  (0, 26784)\t0.12764811195548303\n",
      "  (0, 35625)\t0.07289397494856756\n",
      "  (0, 35059)\t0.29938256058767926\n",
      "  (0, 36135)\t0.06113385503746576\n",
      "  (0, 11822)\t0.12764811195548303\n",
      "  (0, 14150)\t0.1852371256853664\n",
      "  (0, 42658)\t0.17845123687236594\n",
      "  (0, 22793)\t0.054974856629740367\n",
      "  (0, 13244)\t0.10362410665756783\n",
      "  :\t:\n",
      "  (399, 46265)\t0.2113602472529288\n",
      "  (399, 27465)\t0.03241476320370076\n",
      "  (399, 38431)\t0.03152333990923015\n",
      "  (399, 35506)\t0.03245544359593774\n",
      "  (399, 18076)\t0.17653553778934913\n",
      "  (399, 27950)\t0.0176959628299025\n",
      "  (399, 33467)\t0.0176959628299025\n",
      "  (399, 21230)\t0.04457937623647865\n",
      "  (399, 31739)\t0.017749103899357382\n",
      "  (399, 36482)\t0.018371979440365338\n",
      "  (399, 12763)\t0.019257433166389643\n",
      "  (399, 19880)\t0.0176959628299025\n",
      "  (399, 44924)\t0.0176959628299025\n",
      "  (399, 35282)\t0.0176959628299025\n",
      "  (399, 35181)\t0.023177218751851306\n",
      "  (399, 12538)\t0.027683116895344535\n",
      "  (399, 40965)\t0.027761038478008194\n",
      "  (399, 27514)\t0.027776664053266197\n",
      "  (399, 35265)\t0.020927625253481026\n",
      "  (399, 22197)\t0.053087888489707497\n",
      "  (399, 17880)\t0.053087888489707497\n",
      "  (399, 19338)\t0.035391925659805\n",
      "  (399, 44307)\t0.035391925659805\n",
      "  (399, 16634)\t0.0176959628299025\n",
      "  (399, 37230)\t0.0176959628299025\n",
      "y_train [ 9  2  8 ...  8 14 11]\n",
      "y_test [18  3 13  9 12 12  9 17  0 13  0 12 11  5  3  2  7  1 16 18  6 16 19 10\n",
      " 19  0 11  9  7  0  6  9  5  9 10  4 16 12 10  2  1 19  2  5 15  8  5  8\n",
      "  0 16 15  2 14  2  9 17 12 16 11  3 14  6 16 10 19 18  9 15  1 14 14  3\n",
      " 13 10  7  3 16  7  3 18  0  8 14 15 16 14 17  4  2 16 15 17  2  2 18 18\n",
      "  6 12 15 19  9  9  4 13  2  8  6  2  6  5  7 14 10 17  7  3 11  9  3 16\n",
      " 18 10 11  4  3 15  4  8 11  3 18 18  7  5  8 12 19 19 16 15 13  3 16  8\n",
      " 15  5  6 12  2  1 16  9  6 11  3  1  5 16  5 16  6  8  1 11 19 14 17 12\n",
      "  2 17 11  6 19 18  4 13  7 13  8 16 12  7 18 11  8  7 19 16 11 12  6  2\n",
      " 13  2  0  4 11  8  6 15 18  5  1  7  4  2 14 13 10  0 17  0  2  1  7 18\n",
      " 11  3  4 12  9  1  5 11 18 19  4  1 16  3 19  2 16 14 17  3 10  8 13  5\n",
      "  7 15  5  9 13  1  8 19  8 13 10  3 11  4 14 10  5  6 18 12  0 19  0 15\n",
      " 10 15  3  1  2 10 13 19  4 16 19 19  6  4 14  2 19 14  6 13 13  0  2 17\n",
      "  0  1 12 15 14 16  5  3  0 17 18  4  5  0 19 14  7 19 11 13  9  0 10 16\n",
      " 12  9 10  5 15 15 18 15  0 16  1  3  9  5 19  6 16  7  4  5 15  5  3 17\n",
      "  3  1 11 17 14  3 19  8  5 16  3 19 15  9  1  4 14 16  1  5 17 17 13 11\n",
      "  4  3  7  1  6  4 17  3 11  2 15 18  0 17 15 15  4 17 19 14 14  8  4 16\n",
      " 14  7  5 14  6 15 17 16  4  7  5  9 12 17  2  5]\n"
     ]
    }
   ],
   "source": [
    "from sklearn.model_selection import train_test_split\n",
    "x_train,x_test,y_train,y_test=train_test_split(x,y_df,test_size=0.2,random_state=42)\n",
    "print(\"x_train:\",x_train)\n",
    "print(\"x_test:\",x_test)\n",
    "print(\"y_train\",y_train)\n",
    "print(\"y_test\",y_test)"
   ]
  },
  {
   "cell_type": "markdown",
   "id": "e23337df-33a1-42ff-bdd6-37fc0d763441",
   "metadata": {},
   "source": [
    "Implement a Naive Bayes classifier to categorize the blog posts into their respective categories. You can use libraries like scikit-learn for this purpose."
   ]
  },
  {
   "cell_type": "code",
   "execution_count": 9,
   "id": "af5b4cb9-ce3e-4511-a8bd-9bc5418c7952",
   "metadata": {},
   "outputs": [
    {
     "data": {
      "text/html": [
       "<style>#sk-container-id-1 {color: black;}#sk-container-id-1 pre{padding: 0;}#sk-container-id-1 div.sk-toggleable {background-color: white;}#sk-container-id-1 label.sk-toggleable__label {cursor: pointer;display: block;width: 100%;margin-bottom: 0;padding: 0.3em;box-sizing: border-box;text-align: center;}#sk-container-id-1 label.sk-toggleable__label-arrow:before {content: \"▸\";float: left;margin-right: 0.25em;color: #696969;}#sk-container-id-1 label.sk-toggleable__label-arrow:hover:before {color: black;}#sk-container-id-1 div.sk-estimator:hover label.sk-toggleable__label-arrow:before {color: black;}#sk-container-id-1 div.sk-toggleable__content {max-height: 0;max-width: 0;overflow: hidden;text-align: left;background-color: #f0f8ff;}#sk-container-id-1 div.sk-toggleable__content pre {margin: 0.2em;color: black;border-radius: 0.25em;background-color: #f0f8ff;}#sk-container-id-1 input.sk-toggleable__control:checked~div.sk-toggleable__content {max-height: 200px;max-width: 100%;overflow: auto;}#sk-container-id-1 input.sk-toggleable__control:checked~label.sk-toggleable__label-arrow:before {content: \"▾\";}#sk-container-id-1 div.sk-estimator input.sk-toggleable__control:checked~label.sk-toggleable__label {background-color: #d4ebff;}#sk-container-id-1 div.sk-label input.sk-toggleable__control:checked~label.sk-toggleable__label {background-color: #d4ebff;}#sk-container-id-1 input.sk-hidden--visually {border: 0;clip: rect(1px 1px 1px 1px);clip: rect(1px, 1px, 1px, 1px);height: 1px;margin: -1px;overflow: hidden;padding: 0;position: absolute;width: 1px;}#sk-container-id-1 div.sk-estimator {font-family: monospace;background-color: #f0f8ff;border: 1px dotted black;border-radius: 0.25em;box-sizing: border-box;margin-bottom: 0.5em;}#sk-container-id-1 div.sk-estimator:hover {background-color: #d4ebff;}#sk-container-id-1 div.sk-parallel-item::after {content: \"\";width: 100%;border-bottom: 1px solid gray;flex-grow: 1;}#sk-container-id-1 div.sk-label:hover label.sk-toggleable__label {background-color: #d4ebff;}#sk-container-id-1 div.sk-serial::before {content: \"\";position: absolute;border-left: 1px solid gray;box-sizing: border-box;top: 0;bottom: 0;left: 50%;z-index: 0;}#sk-container-id-1 div.sk-serial {display: flex;flex-direction: column;align-items: center;background-color: white;padding-right: 0.2em;padding-left: 0.2em;position: relative;}#sk-container-id-1 div.sk-item {position: relative;z-index: 1;}#sk-container-id-1 div.sk-parallel {display: flex;align-items: stretch;justify-content: center;background-color: white;position: relative;}#sk-container-id-1 div.sk-item::before, #sk-container-id-1 div.sk-parallel-item::before {content: \"\";position: absolute;border-left: 1px solid gray;box-sizing: border-box;top: 0;bottom: 0;left: 50%;z-index: -1;}#sk-container-id-1 div.sk-parallel-item {display: flex;flex-direction: column;z-index: 1;position: relative;background-color: white;}#sk-container-id-1 div.sk-parallel-item:first-child::after {align-self: flex-end;width: 50%;}#sk-container-id-1 div.sk-parallel-item:last-child::after {align-self: flex-start;width: 50%;}#sk-container-id-1 div.sk-parallel-item:only-child::after {width: 0;}#sk-container-id-1 div.sk-dashed-wrapped {border: 1px dashed gray;margin: 0 0.4em 0.5em 0.4em;box-sizing: border-box;padding-bottom: 0.4em;background-color: white;}#sk-container-id-1 div.sk-label label {font-family: monospace;font-weight: bold;display: inline-block;line-height: 1.2em;}#sk-container-id-1 div.sk-label-container {text-align: center;}#sk-container-id-1 div.sk-container {/* jupyter's `normalize.less` sets `[hidden] { display: none; }` but bootstrap.min.css set `[hidden] { display: none !important; }` so we also need the `!important` here to be able to override the default hidden behavior on the sphinx rendered scikit-learn.org. See: https://github.com/scikit-learn/scikit-learn/issues/21755 */display: inline-block !important;position: relative;}#sk-container-id-1 div.sk-text-repr-fallback {display: none;}</style><div id=\"sk-container-id-1\" class=\"sk-top-container\"><div class=\"sk-text-repr-fallback\"><pre>MultinomialNB()</pre><b>In a Jupyter environment, please rerun this cell to show the HTML representation or trust the notebook. <br />On GitHub, the HTML representation is unable to render, please try loading this page with nbviewer.org.</b></div><div class=\"sk-container\" hidden><div class=\"sk-item\"><div class=\"sk-estimator sk-toggleable\"><input class=\"sk-toggleable__control sk-hidden--visually\" id=\"sk-estimator-id-1\" type=\"checkbox\" checked><label for=\"sk-estimator-id-1\" class=\"sk-toggleable__label sk-toggleable__label-arrow\">MultinomialNB</label><div class=\"sk-toggleable__content\"><pre>MultinomialNB()</pre></div></div></div></div></div>"
      ],
      "text/plain": [
       "MultinomialNB()"
      ]
     },
     "execution_count": 9,
     "metadata": {},
     "output_type": "execute_result"
    }
   ],
   "source": [
    "from sklearn.naive_bayes import MultinomialNB\n",
    "model= MultinomialNB().fit(x_train,y_train)\n",
    "model"
   ]
  },
  {
   "cell_type": "markdown",
   "id": "645bed34-e481-4d56-948a-c541214910e8",
   "metadata": {},
   "source": [
    "Train the model on the training set and make predictions on the test set."
   ]
  },
  {
   "cell_type": "code",
   "execution_count": 10,
   "id": "a83348f7-cf89-4093-9c52-3527ce960c67",
   "metadata": {},
   "outputs": [
    {
     "data": {
      "text/plain": [
       "array([18,  3, 13,  9,  3, 12,  9, 17,  0, 13,  0, 13, 11,  9,  3,  2,  7,\n",
       "        1, 16, 18,  6, 18, 19, 10,  0, 11, 11,  9,  7,  0,  6, 10,  5, 10,\n",
       "       10,  4, 13, 10, 10,  2,  3, 19,  2,  1, 15,  8, 11,  8,  0, 18, 15,\n",
       "       11, 14,  2,  9, 17, 12, 16, 11,  3, 14,  6, 16, 10, 18, 18, 10, 15,\n",
       "        1, 14, 14,  3, 13, 10,  7,  3, 18,  7, 12, 18,  0,  8, 14, 15, 18,\n",
       "       10, 17,  4,  2, 11, 15, 17,  2,  2, 18, 18,  4, 12, 15, 18,  9,  9,\n",
       "        4, 13,  2,  8,  7,  2,  6, 11,  7, 14, 10, 17,  7,  3, 11,  9,  3,\n",
       "       18, 18, 10, 11,  4,  3, 15,  4,  8, 11,  3, 19, 18,  7,  5,  8, 12,\n",
       "        0,  0, 16, 15, 13,  3, 18,  8, 15,  5,  6,  4,  2,  1, 16,  9,  6,\n",
       "       11,  3,  6, 13, 16,  3, 16,  6, 16,  1, 11, 19, 14, 17, 12,  2, 17,\n",
       "       11,  6,  0, 18,  4, 13, 12, 13,  8, 16, 12,  7, 18, 11,  8,  7,  0,\n",
       "       16, 11, 12,  7,  2, 13,  2, 19,  4, 11,  8,  6, 15, 10, 12,  1,  7,\n",
       "       11,  2, 14,  9, 10,  0, 17,  0,  2,  1,  7, 18, 11,  3,  1,  1,  9,\n",
       "        1,  5, 11, 15, 19,  4,  1, 16,  3,  0,  2, 16,  1, 17,  3, 10,  8,\n",
       "       13,  1,  7, 15,  5,  9, 13, 11,  7, 19,  8,  3, 10,  3, 11,  3, 14,\n",
       "       10,  2,  6, 18, 12,  0, 19,  0, 15, 10, 15,  3,  1,  2, 10, 13,  0,\n",
       "       10, 16,  0, 19,  6,  4, 14,  2, 19, 14,  6, 13, 13,  0,  2, 17,  0,\n",
       "        9,  3, 15, 14, 16,  3,  3, 19, 17, 18,  3,  2,  0, 16, 14,  7, 19,\n",
       "       11, 13,  9,  0, 10, 16, 12,  9, 10,  2, 15, 15, 18, 15,  0, 16,  1,\n",
       "       12,  9,  2, 19,  6, 16,  7,  4,  5, 15,  2,  3, 17,  2,  1, 11, 17,\n",
       "       14,  3,  0,  8,  6, 16,  3,  0, 15,  9,  1,  4, 14, 16,  1, 10, 17,\n",
       "       17, 13, 11,  6,  3,  7,  6,  6,  4, 17,  8, 11,  2, 15, 18,  0, 18,\n",
       "       15, 15,  4, 17, 18, 14, 14,  6,  4, 16, 14,  7,  8, 14,  7, 15, 17,\n",
       "       16, 17,  7,  2,  9,  7, 17,  2, 11])"
      ]
     },
     "execution_count": 10,
     "metadata": {},
     "output_type": "execute_result"
    }
   ],
   "source": [
    "y_pred=model.predict(x_test)\n",
    "y_pred"
   ]
  },
  {
   "cell_type": "markdown",
   "id": "adcefeaf-e7d0-4390-8f00-2e5e951c6951",
   "metadata": {},
   "source": [
    "#  Sentiment Analysis\n",
    "\n",
    "Sentiment analysis is a natural language processing (NLP) task used to determine the sentiment or emotion expressed in a piece of text. It typically classifies text into categories such as positive, negative, or neutral.\n"
   ]
  },
  {
   "cell_type": "markdown",
   "id": "56a49664-7474-40fc-8578-95682d72d514",
   "metadata": {},
   "source": [
    "•\tChoose a suitable library or method for performing sentiment analysis on the blog post texts.\n",
    "\n",
    "•\tAnalyze the sentiments expressed in the blog posts and categorize them as positive, negative, or neutral. Consider only the Data column and get the sentiment for each blog.\n"
   ]
  },
  {
   "cell_type": "code",
   "execution_count": 16,
   "id": "cb2218af-5c2a-405f-b1be-cb189b5c1b75",
   "metadata": {},
   "outputs": [
    {
     "name": "stdout",
     "output_type": "stream",
     "text": [
      "                                                   Data              Labels  \\\n",
      "0     Path: cantaloupe.srv.cs.cmu.edu!magnesium.club...         alt.atheism   \n",
      "1     Newsgroups: alt.atheism\\nPath: cantaloupe.srv....         alt.atheism   \n",
      "2     Path: cantaloupe.srv.cs.cmu.edu!das-news.harva...         alt.atheism   \n",
      "3     Path: cantaloupe.srv.cs.cmu.edu!magnesium.club...         alt.atheism   \n",
      "4     Xref: cantaloupe.srv.cs.cmu.edu alt.atheism:53...         alt.atheism   \n",
      "...                                                 ...                 ...   \n",
      "1995  Xref: cantaloupe.srv.cs.cmu.edu talk.abortion:...  talk.religion.misc   \n",
      "1996  Xref: cantaloupe.srv.cs.cmu.edu talk.religion....  talk.religion.misc   \n",
      "1997  Xref: cantaloupe.srv.cs.cmu.edu talk.origins:4...  talk.religion.misc   \n",
      "1998  Xref: cantaloupe.srv.cs.cmu.edu talk.religion....  talk.religion.misc   \n",
      "1999  Xref: cantaloupe.srv.cs.cmu.edu sci.skeptic:43...  talk.religion.misc   \n",
      "\n",
      "     Sentiment  \n",
      "0     Positive  \n",
      "1     Negative  \n",
      "2     Positive  \n",
      "3     Positive  \n",
      "4     Positive  \n",
      "...        ...  \n",
      "1995  Positive  \n",
      "1996  Positive  \n",
      "1997  Positive  \n",
      "1998  Positive  \n",
      "1999  Positive  \n",
      "\n",
      "[2000 rows x 3 columns]\n"
     ]
    }
   ],
   "source": [
    "from textblob import TextBlob\n",
    "# Sentiment Analysis\n",
    "def get_sentiment(text):\n",
    "    analysis = TextBlob(text).sentiment.polarity\n",
    "    if analysis > 0:\n",
    "        return 'Positive'\n",
    "    elif analysis < 0:\n",
    "        return 'Negative'\n",
    "    else:\n",
    "        return 'Neutral'\n",
    "\n",
    "# Apply sentiment analysis to the 'Data' column\n",
    "df['Sentiment'] = df['Data'].apply(get_sentiment)\n",
    "print(df)"
   ]
  },
  {
   "cell_type": "markdown",
   "id": "bb374725-cd0a-4b9d-a7c6-bbf02259a08f",
   "metadata": {},
   "source": [
    "Examine the distribution of sentiments across different categories and summarize your findings."
   ]
  },
  {
   "cell_type": "code",
   "execution_count": 17,
   "id": "13be4a68-d2aa-44bc-8fd7-4ee28e9ab32c",
   "metadata": {},
   "outputs": [
    {
     "name": "stdout",
     "output_type": "stream",
     "text": [
      "Sentiment Distribution:\n",
      "Sentiment\n",
      "Positive    1543\n",
      "Negative     457\n",
      "Name: count, dtype: int64\n",
      "\n",
      "Category Sentiment Distribution:\n",
      "Labels                    Sentiment\n",
      "alt.atheism               Positive     77\n",
      "                          Negative     23\n",
      "comp.graphics             Positive     76\n",
      "                          Negative     24\n",
      "comp.os.ms-windows.misc   Positive     78\n",
      "                          Negative     22\n",
      "comp.sys.ibm.pc.hardware  Positive     80\n",
      "                          Negative     20\n",
      "comp.sys.mac.hardware     Positive     76\n",
      "                          Negative     24\n",
      "comp.windows.x            Positive     73\n",
      "                          Negative     27\n",
      "misc.forsale              Positive     84\n",
      "                          Negative     16\n",
      "rec.autos                 Positive     83\n",
      "                          Negative     17\n",
      "rec.motorcycles           Positive     74\n",
      "                          Negative     26\n",
      "rec.sport.baseball        Positive     71\n",
      "                          Negative     29\n",
      "rec.sport.hockey          Positive     66\n",
      "                          Negative     34\n",
      "sci.crypt                 Positive     81\n",
      "                          Negative     19\n",
      "sci.electronics           Positive     81\n",
      "                          Negative     19\n",
      "sci.med                   Positive     71\n",
      "                          Negative     29\n",
      "sci.space                 Positive     73\n",
      "                          Negative     27\n",
      "soc.religion.christian    Positive     87\n",
      "                          Negative     13\n",
      "talk.politics.guns        Positive     70\n",
      "                          Negative     30\n",
      "talk.politics.mideast     Positive     78\n",
      "                          Negative     22\n",
      "talk.politics.misc        Positive     78\n",
      "                          Negative     22\n",
      "talk.religion.misc        Positive     86\n",
      "                          Negative     14\n",
      "Name: count, dtype: int64\n"
     ]
    }
   ],
   "source": [
    "# Distribution across all data\n",
    "sentiment_distribution = df['Sentiment'].value_counts()\n",
    "print(\"Sentiment Distribution:\")\n",
    "print(sentiment_distribution)\n",
    "\n",
    "# Distribution across categories (e.g., 'Labels')\n",
    "category_sentiment_distribution = df.groupby('Labels')['Sentiment'].value_counts()\n",
    "print(\"\\nCategory Sentiment Distribution:\")\n",
    "print(category_sentiment_distribution)\n"
   ]
  },
  {
   "cell_type": "markdown",
   "id": "8cfed9a3-6f41-44b6-acae-f83e410eb216",
   "metadata": {},
   "source": [
    "# Evaluation"
   ]
  },
  {
   "cell_type": "markdown",
   "id": "9ed38e8b-bdd8-438c-8960-bd933374506f",
   "metadata": {},
   "source": [
    "Evaluate the performance of your Naive Bayes classifier using metrics such as accuracy, precision, recall, and F1-score."
   ]
  },
  {
   "cell_type": "code",
   "execution_count": 25,
   "id": "3742a7b8-67dd-47a0-9e15-10674d80f80f",
   "metadata": {},
   "outputs": [
    {
     "data": {
      "text/plain": [
       "0.7825"
      ]
     },
     "execution_count": 25,
     "metadata": {},
     "output_type": "execute_result"
    }
   ],
   "source": [
    "from sklearn.metrics import accuracy_score,precision_score,recall_score,f1_score\n",
    "score=accuracy_score(y_test,y_pred)\n",
    "score"
   ]
  },
  {
   "cell_type": "markdown",
   "id": "87518689-e90d-4a07-bd87-6bf94fa16c5d",
   "metadata": {},
   "source": [
    "Target is multiclass choose another average setting, one of [None, 'micro', 'macro', 'weighted']."
   ]
  },
  {
   "cell_type": "code",
   "execution_count": 28,
   "id": "6570373c-30a3-43dd-a5a8-82cd300e6a90",
   "metadata": {},
   "outputs": [],
   "source": [
    "precision = precision_score(y_test, y_pred, average='weighted')  # Change average as needed\n",
    "recall = recall_score(y_test, y_pred, average='weighted')        \n",
    "f1 = f1_score(y_test, y_pred, average='weighted')   "
   ]
  },
  {
   "cell_type": "code",
   "execution_count": 29,
   "id": "4b801c8f-9915-4ba1-aa17-313fbd94f6d6",
   "metadata": {},
   "outputs": [
    {
     "data": {
      "text/plain": [
       "0.8074292078467984"
      ]
     },
     "execution_count": 29,
     "metadata": {},
     "output_type": "execute_result"
    }
   ],
   "source": [
    "precision"
   ]
  },
  {
   "cell_type": "code",
   "execution_count": 30,
   "id": "da6cd5ca-a306-43ae-90b9-2654857f2d63",
   "metadata": {},
   "outputs": [
    {
     "data": {
      "text/plain": [
       "0.7825"
      ]
     },
     "execution_count": 30,
     "metadata": {},
     "output_type": "execute_result"
    }
   ],
   "source": [
    "recall"
   ]
  },
  {
   "cell_type": "code",
   "execution_count": 31,
   "id": "ccb4426d-ae41-4cfe-a993-f0008d5ce3ac",
   "metadata": {},
   "outputs": [
    {
     "data": {
      "text/plain": [
       "0.769562107458443"
      ]
     },
     "execution_count": 31,
     "metadata": {},
     "output_type": "execute_result"
    }
   ],
   "source": [
    "f1"
   ]
  },
  {
   "cell_type": "markdown",
   "id": "16c820a0-11d9-48f0-a121-7c2960bb8b76",
   "metadata": {},
   "source": [
    "Evaluation Criteria Assessment\n",
    "\n",
    "# Correct Implementation of Data Preprocessing and Feature Extraction\n",
    "\n",
    " TfidfVectorizer efficiently handled text cleaning and transformation.\n",
    " \n",
    "Accuracy and Robustness of the Naive Bayes Model\n",
    "\n",
    "Achieved 0.7825 accuracy and 0.8074 precision, which are good indicators of model performance.\n",
    "\n",
    "Depth and Insightfulness of Sentiment Analysis\n",
    "\n",
    "The categorization into Positive, Negative, and Neutral sentiments using TextBlob is appropriate and insightful.\n",
    "\n",
    "Clarity and Thoroughness of Evaluation\n",
    "\n",
    "Ensure that your report clearly explains how the results relate to the blog post labels (e.g., are certain labels predominantly positive or negative?).\n",
    "\n",
    "Overall Quality and Organization\n",
    "\n",
    "Provide a clear summary of each step, metrics, and results in your report for better readability"
   ]
  },
  {
   "cell_type": "code",
   "execution_count": null,
   "id": "d29d79a0-eeaf-43f6-8a32-977a8c1e4a7b",
   "metadata": {},
   "outputs": [],
   "source": []
  }
 ],
 "metadata": {
  "kernelspec": {
   "display_name": "Python (myenv)",
   "language": "python",
   "name": "myenv"
  },
  "language_info": {
   "codemirror_mode": {
    "name": "ipython",
    "version": 3
   },
   "file_extension": ".py",
   "mimetype": "text/x-python",
   "name": "python",
   "nbconvert_exporter": "python",
   "pygments_lexer": "ipython3",
   "version": "3.8.20"
  }
 },
 "nbformat": 4,
 "nbformat_minor": 5
}
