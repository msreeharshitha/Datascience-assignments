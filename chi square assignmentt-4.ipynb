{
 "cells": [
  {
   "cell_type": "markdown",
   "id": "9b93647d",
   "metadata": {},
   "source": [
    "# chisquare test\n",
    "\n",
    " The Chi-Square test is a statistical procedure for determining the difference between observed and expected data.\n",
    " \n",
    " \n",
    "# Chi-Square Test two types\n",
    "\n",
    "1.Independence:\n",
    "\n",
    "The Chi-Square Test of Independence is a derivable ( also known as inferential ) statistical test which examines whether the two sets of variables are likely to be related with each other or not.\n",
    "\n",
    "# H0: values are independent\n",
    "\n",
    "# H1:values are not independent\n",
    "\n",
    "2.Goodness fit test:\n",
    "\n",
    "In statistical hypothesis testing, the Chi-Square Goodness-of-Fit test determines whether a variable is likely to come from a given distribution or not.\n",
    "\n",
    "# H0: observed data fits the expected\n",
    "\n",
    "# H1: observed data not  fits the expected\n"
   ]
  },
  {
   "cell_type": "code",
   "execution_count": 1,
   "id": "118cb31b",
   "metadata": {},
   "outputs": [
    {
     "data": {
      "text/html": [
       "<div>\n",
       "<style scoped>\n",
       "    .dataframe tbody tr th:only-of-type {\n",
       "        vertical-align: middle;\n",
       "    }\n",
       "\n",
       "    .dataframe tbody tr th {\n",
       "        vertical-align: top;\n",
       "    }\n",
       "\n",
       "    .dataframe thead th {\n",
       "        text-align: right;\n",
       "    }\n",
       "</style>\n",
       "<table border=\"1\" class=\"dataframe\">\n",
       "  <thead>\n",
       "    <tr style=\"text-align: right;\">\n",
       "      <th></th>\n",
       "      <th>Smart Thermostat</th>\n",
       "      <th>Smart Light</th>\n",
       "    </tr>\n",
       "  </thead>\n",
       "  <tbody>\n",
       "    <tr>\n",
       "      <th>Very Satisfied</th>\n",
       "      <td>50</td>\n",
       "      <td>70</td>\n",
       "    </tr>\n",
       "    <tr>\n",
       "      <th>Satisfied</th>\n",
       "      <td>80</td>\n",
       "      <td>100</td>\n",
       "    </tr>\n",
       "    <tr>\n",
       "      <th>Neutral</th>\n",
       "      <td>60</td>\n",
       "      <td>90</td>\n",
       "    </tr>\n",
       "    <tr>\n",
       "      <th>Unsatisfied</th>\n",
       "      <td>30</td>\n",
       "      <td>50</td>\n",
       "    </tr>\n",
       "    <tr>\n",
       "      <th>Very Unsatisfied</th>\n",
       "      <td>20</td>\n",
       "      <td>50</td>\n",
       "    </tr>\n",
       "  </tbody>\n",
       "</table>\n",
       "</div>"
      ],
      "text/plain": [
       "                  Smart Thermostat  Smart Light\n",
       "Very Satisfied                  50           70\n",
       "Satisfied                       80          100\n",
       "Neutral                         60           90\n",
       "Unsatisfied                     30           50\n",
       "Very Unsatisfied                20           50"
      ]
     },
     "execution_count": 1,
     "metadata": {},
     "output_type": "execute_result"
    }
   ],
   "source": [
    "import pandas as pd \n",
    "import numpy as np\n",
    "from scipy import stats\n",
    "from scipy.stats import chi2_contingency,chi2\n",
    "# creating dataframe\n",
    "\n",
    "data = [[50, 70],  # Very Satisfied\n",
    "        [80, 100],  # Satisfied\n",
    "        [60, 90],  # Neutral\n",
    "        [30, 50],  # Unsatisfied\n",
    "        [20, 50]]  # Very Unsatisfied\n",
    "\n",
    "# Convert the data into a pandas DataFrame for better visualization\n",
    "df = pd.DataFrame(data, columns=[\"Smart Thermostat\", \"Smart Light\"], \n",
    "                  index=[\"Very Satisfied\", \"Satisfied\", \"Neutral\", \"Unsatisfied\", \"Very Unsatisfied\"])\n",
    "df"
   ]
  },
  {
   "cell_type": "code",
   "execution_count": 2,
   "id": "c8d895ff",
   "metadata": {},
   "outputs": [
    {
     "data": {
      "text/plain": [
       "(5.638227513227513,\n",
       " 0.22784371130697179,\n",
       " 4,\n",
       " array([[ 48.,  72.],\n",
       "        [ 72., 108.],\n",
       "        [ 60.,  90.],\n",
       "        [ 32.,  48.],\n",
       "        [ 28.,  42.]]))"
      ]
     },
     "execution_count": 2,
     "metadata": {},
     "output_type": "execute_result"
    }
   ],
   "source": [
    "alpha=0.05\n",
    "chi2_stat,p,dof,expected=chi2_contingency(df)\n",
    "chi2_stat,p,dof,expected"
   ]
  },
  {
   "cell_type": "markdown",
   "id": "95905414",
   "metadata": {},
   "source": [
    "# Decision\n",
    "\n",
    "Reject the Null Hypothesis (H₀): If the computed Chi-Square statistic is greater than the critical value. There is association between customer satisfaction and smart phone devices\n",
    "\n",
    "Fail to Reject the Null Hypothesis (H₀): If the computed Chi-Square statistic is less than or equal to the critical value.There is association between customer satisfaction and smart phone devices"
   ]
  },
  {
   "cell_type": "code",
   "execution_count": 3,
   "id": "3c50bb08",
   "metadata": {},
   "outputs": [
    {
     "name": "stdout",
     "output_type": "stream",
     "text": [
      "5.638227513227513\n",
      "0.22784371130697179\n",
      "4\n",
      "[[ 48.  72.]\n",
      " [ 72. 108.]\n",
      " [ 60.  90.]\n",
      " [ 32.  48.]\n",
      " [ 28.  42.]]\n",
      "\n",
      "We fail to reject the null hypothesis: There is no association between customer satisfaction and smartphone.\n"
     ]
    }
   ],
   "source": [
    "# defining critical value chisquare is always a in positive direction\n",
    "\n",
    "critical_value=chi2.ppf(1-alpha,dof)\n",
    "print(chi2_stat)\n",
    "print(p)\n",
    "print(dof)\n",
    "print(expected)\n",
    "\n",
    "if chi2_stat > critical_value:\n",
    "    print(\"\\nWe reject the null hypothesis: There is an association between customer satisfaction and smartphone.\")\n",
    "else:\n",
    "    print(\"\\nWe fail to reject the null hypothesis: There is no association between customer satisfaction and smartphone.\")\n",
    "    \n"
   ]
  },
  {
   "cell_type": "markdown",
   "id": "f2940834",
   "metadata": {},
   "source": [
    "# Conclusion:\n",
    "There is not enough evidence to suggest a significant association between the type of smart home device (Smart Thermostat or Smart Light) and customer satisfaction levels. Hence, the customer satisfaction levels are independent of the device type."
   ]
  }
 ],
 "metadata": {
  "kernelspec": {
   "display_name": "Python 3 (ipykernel)",
   "language": "python",
   "name": "python3"
  },
  "language_info": {
   "codemirror_mode": {
    "name": "ipython",
    "version": 3
   },
   "file_extension": ".py",
   "mimetype": "text/x-python",
   "name": "python",
   "nbconvert_exporter": "python",
   "pygments_lexer": "ipython3",
   "version": "3.9.13"
  }
 },
 "nbformat": 4,
 "nbformat_minor": 5
}
