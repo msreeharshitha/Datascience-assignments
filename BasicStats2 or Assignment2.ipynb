{
 "cells": [
  {
   "cell_type": "code",
   "execution_count": 1,
   "id": "8e429477",
   "metadata": {},
   "outputs": [],
   "source": [
    "# Estimation and confidence intercals \n",
    "# which is used to predict the population parameter from sample data \n",
    "#ci= x+or-t*(s/sqrt(n)) formula for sample standard deviation or when standard deviation is unknown   \n",
    "# the library used here is from scipy import stats"
   ]
  },
  {
   "cell_type": "code",
   "execution_count": 2,
   "id": "c80d69da",
   "metadata": {},
   "outputs": [],
   "source": [
    "#buliding 99% confidence interval using sample standard deviation\n",
    "import numpy as np\n",
    "from scipy import stats"
   ]
  },
  {
   "cell_type": "code",
   "execution_count": 3,
   "id": "2822a69b",
   "metadata": {},
   "outputs": [
    {
     "name": "stdout",
     "output_type": "stream",
     "text": [
      "sample_mean:1.2386666666666666\n"
     ]
    }
   ],
   "source": [
    "data=[1.13, 1.55, 1.43, 0.92, 1.25, 1.36, 1.32, 0.85, 1.07, 1.48, 1.20, 1.33, 1.18, 1.22, 1.29]\n",
    "sample_mean=np.mean(data)\n",
    "print(f'sample_mean:{sample_mean}')"
   ]
  },
  {
   "cell_type": "code",
   "execution_count": 4,
   "id": "3d7eedc9",
   "metadata": {},
   "outputs": [],
   "source": [
    "confidence_interval=0.99"
   ]
  },
  {
   "cell_type": "code",
   "execution_count": 5,
   "id": "438d3b4a",
   "metadata": {},
   "outputs": [
    {
     "name": "stdout",
     "output_type": "stream",
     "text": [
      "degrees_freedom:14\n"
     ]
    }
   ],
   "source": [
    "degrees_freedom=len(data)-1\n",
    "print(f'degrees_freedom:{degrees_freedom}')\n"
   ]
  },
  {
   "cell_type": "code",
   "execution_count": 6,
   "id": "219d3bf6",
   "metadata": {},
   "outputs": [
    {
     "name": "stdout",
     "output_type": "stream",
     "text": [
      "sem:0.04987476379384733\n"
     ]
    }
   ],
   "source": [
    "#standard error mean sem --- calculates s/sqrt(n) \n",
    "sem=stats.sem(data)\n",
    "print(f'sem:{sem}')"
   ]
  },
  {
   "cell_type": "code",
   "execution_count": 7,
   "id": "d60e8452",
   "metadata": {},
   "outputs": [
    {
     "name": "stdout",
     "output_type": "stream",
     "text": [
      "confidence of interval of sample standard deviation is:(1.090197338451367, 1.3871359948819662)\n"
     ]
    }
   ],
   "source": [
    "# uses function stats.t.interval,contians four parameters t stands for t distribution\n",
    "#sample_mean\n",
    "#confidence_intervals\n",
    "#degrees_freedom\n",
    "#sem\n",
    "ci=stats.t.interval(confidence_interval,degrees_freedom,loc=sample_mean,scale=sem)\n",
    "print(f'confidence of interval of sample standard deviation is:{ci}')\n"
   ]
  },
  {
   "cell_type": "code",
   "execution_count": 8,
   "id": "1f08ee50",
   "metadata": {},
   "outputs": [
    {
     "name": "stdout",
     "output_type": "stream",
     "text": [
      "sample_mean:1.2386666666666666\n"
     ]
    }
   ],
   "source": [
    "#  Building  99% Confidence Interval Using Known Population Standard Deviation\n",
    "#formula ci=x+_z1-aplha(population standard deviation/sqrt(n))\n",
    "\n",
    "data=[1.13, 1.55, 1.43, 0.92, 1.25, 1.36, 1.32, 0.85, 1.07, 1.48, 1.20, 1.33, 1.18, 1.22, 1.29]\n",
    "sample_mean=np.mean(data)\n",
    "print(f'sample_mean:{sample_mean}')\n"
   ]
  },
  {
   "cell_type": "code",
   "execution_count": 9,
   "id": "cf514ce9",
   "metadata": {},
   "outputs": [],
   "source": [
    "confidence_interval=0.99"
   ]
  },
  {
   "cell_type": "code",
   "execution_count": 10,
   "id": "c8844c29",
   "metadata": {},
   "outputs": [],
   "source": [
    "population_std=0.2"
   ]
  },
  {
   "cell_type": "code",
   "execution_count": 11,
   "id": "a772e460",
   "metadata": {},
   "outputs": [],
   "source": [
    "#calculating standard error mean\n",
    "se=population_std/np.sqrt(len(data))"
   ]
  },
  {
   "cell_type": "code",
   "execution_count": 12,
   "id": "f11f0e4d",
   "metadata": {},
   "outputs": [],
   "source": [
    "#calculating zscore use function stats.norm.ppf ppf stands for point probabilty function\n",
    "zscore= stats.norm.ppf((1+confidence_interval)/2)"
   ]
  },
  {
   "cell_type": "code",
   "execution_count": 13,
   "id": "70ed0c9f",
   "metadata": {},
   "outputs": [],
   "source": [
    "#calculating margin error \n",
    "margin_error=zscore*se"
   ]
  },
  {
   "cell_type": "code",
   "execution_count": 14,
   "id": "2a0e2102",
   "metadata": {},
   "outputs": [
    {
     "name": "stdout",
     "output_type": "stream",
     "text": [
      "confidence of interval of population standard deviation is:(1.1056514133957607, 1.3716819199375725)\n"
     ]
    }
   ],
   "source": [
    "# ci\n",
    "ci=(sample_mean-margin_error,sample_mean+margin_error)\n",
    "print(f'confidence of interval of population standard deviation is:{ci}')\n"
   ]
  },
  {
   "cell_type": "code",
   "execution_count": null,
   "id": "c504216e",
   "metadata": {},
   "outputs": [],
   "source": []
  },
  {
   "cell_type": "code",
   "execution_count": null,
   "id": "233d34b3",
   "metadata": {},
   "outputs": [],
   "source": []
  },
  {
   "cell_type": "code",
   "execution_count": null,
   "id": "fcc2dfd1",
   "metadata": {},
   "outputs": [],
   "source": []
  },
  {
   "cell_type": "code",
   "execution_count": null,
   "id": "3efbf3e9",
   "metadata": {},
   "outputs": [],
   "source": []
  },
  {
   "cell_type": "code",
   "execution_count": null,
   "id": "c76ccc72",
   "metadata": {},
   "outputs": [],
   "source": []
  },
  {
   "cell_type": "code",
   "execution_count": null,
   "id": "51d1f980",
   "metadata": {},
   "outputs": [],
   "source": []
  },
  {
   "cell_type": "code",
   "execution_count": null,
   "id": "587cf046",
   "metadata": {},
   "outputs": [],
   "source": []
  },
  {
   "cell_type": "code",
   "execution_count": null,
   "id": "b9c41d76",
   "metadata": {},
   "outputs": [],
   "source": []
  }
 ],
 "metadata": {
  "kernelspec": {
   "display_name": "Python 3 (ipykernel)",
   "language": "python",
   "name": "python3"
  },
  "language_info": {
   "codemirror_mode": {
    "name": "ipython",
    "version": 3
   },
   "file_extension": ".py",
   "mimetype": "text/x-python",
   "name": "python",
   "nbconvert_exporter": "python",
   "pygments_lexer": "ipython3",
   "version": "3.9.13"
  }
 },
 "nbformat": 4,
 "nbformat_minor": 5
}
