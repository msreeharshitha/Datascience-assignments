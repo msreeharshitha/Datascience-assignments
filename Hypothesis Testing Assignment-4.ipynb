{
 "cells": [
  {
   "cell_type": "markdown",
   "id": "90615bf3",
   "metadata": {},
   "source": [
    "# state hypothesis Testing \n",
    "\n",
    "Hypothesis testing in datascience is statistical method used to determine wheather there is strong evidence to support a certain belief about data set \n",
    "\n",
    "# Key Terms:\n",
    "\n",
    "Null hypothesis (H₀): This is the default assumption that there is no effect or difference. It's what you're trying to test against.\n",
    "\n",
    "Alternative hypothesis (H₁): This is what you're trying to prove, indicating that there is an effect or difference.\n",
    "\n",
    "P-value: The probability of observing the data (or something more extreme) if the null hypothesis is true. A small p-value (typically < 0.05) suggests rejecting the null hypothesis.\n",
    "\n",
    "Significance level (α): The threshold for rejecting the null hypothesis, commonly set at 0.05 (5%)."
   ]
  },
  {
   "cell_type": "markdown",
   "id": "db82907c",
   "metadata": {},
   "source": [
    "# claculating the test-statistic \n",
    "t=(samplemean-theroticalmean)/(sigma/sqrt(n))\n",
    "\n",
    "sigma: standard deviation \n",
    "\n",
    "n: sample size"
   ]
  },
  {
   "cell_type": "code",
   "execution_count": 1,
   "id": "39b048ab",
   "metadata": {},
   "outputs": [],
   "source": [
    "#claculating the test-statistic\n",
    "import math\n",
    "from scipy import stats\n",
    "\n",
    "#given values \n",
    "sample_mean = 3050  \n",
    "theoretical_mean =  4000     # according to the cost model 1000+5(600) \n",
    "sigma = 5 * 25 \n",
    "n = 25 \n",
    "\n",
    "t_statistic=(sample_mean-theoretical_mean)/(sigma/math.sqrt(n))\n",
    "\n",
    "#defining alpha value \n",
    "alpha=0.05\n",
    "\n",
    "\n"
   ]
  },
  {
   "cell_type": "markdown",
   "id": "1b1cf1d5",
   "metadata": {},
   "source": [
    "\n",
    "\n",
    "so in this case observed weekly operating costs are higher.\n",
    "\n",
    "# null hypothesis : H0\n",
    "\n",
    "The mean weekly cost is Rs. 4,000 according to the cost model.\n",
    "\n",
    "H0:mu=4000\n",
    "\n",
    "# alternative hypothesis:H1\n",
    "\n",
    "The mean weekly cost is greater than Rs. 4,000.\n",
    "\n",
    "H1:mu>4000"
   ]
  },
  {
   "cell_type": "markdown",
   "id": "3971ddc1",
   "metadata": {},
   "source": [
    "Critical values are used in hypothesis testing to determine if a null hypothesis should be rejected"
   ]
  },
  {
   "cell_type": "code",
   "execution_count": 2,
   "id": "12c385e3",
   "metadata": {},
   "outputs": [],
   "source": [
    "# critical value \n",
    "critical_value = (1-alpha) # we use 1-aplha when it goes to positive direction mean greater\n",
    "\n",
    "#  Make a decision\n",
    "if t_statistic > critical_value:\n",
    "    decision=\"Reject the null hypothesis (H0).\"\n",
    "else:\n",
    "    decision=\"Fail to reject the null hypothesis (H0).\"\n",
    "    \n",
    " # conclusion  \n",
    "if t_statistic > critical_value:\n",
    "      conclusion =\"There is evidence to support the claim that weekly operating costs are higher.\"\n",
    "else:\n",
    "      conclusion =\"There is no strong evidence to support the claim that weekly operating costs are higher.\""
   ]
  },
  {
   "cell_type": "code",
   "execution_count": 3,
   "id": "c946954e",
   "metadata": {},
   "outputs": [
    {
     "data": {
      "text/plain": [
       "(-38.0,\n",
       " 0.95,\n",
       " 'Fail to reject the null hypothesis (H0).',\n",
       " 'There is no strong evidence to support the claim that weekly operating costs are higher.')"
      ]
     },
     "execution_count": 3,
     "metadata": {},
     "output_type": "execute_result"
    }
   ],
   "source": [
    "t_statistic,critical_value,decision,conclusion "
   ]
  },
  {
   "cell_type": "markdown",
   "id": "4aef5069",
   "metadata": {},
   "source": [
    "# "
   ]
  }
 ],
 "metadata": {
  "kernelspec": {
   "display_name": "Python 3 (ipykernel)",
   "language": "python",
   "name": "python3"
  },
  "language_info": {
   "codemirror_mode": {
    "name": "ipython",
    "version": 3
   },
   "file_extension": ".py",
   "mimetype": "text/x-python",
   "name": "python",
   "nbconvert_exporter": "python",
   "pygments_lexer": "ipython3",
   "version": "3.9.13"
  }
 },
 "nbformat": 4,
 "nbformat_minor": 5
}
