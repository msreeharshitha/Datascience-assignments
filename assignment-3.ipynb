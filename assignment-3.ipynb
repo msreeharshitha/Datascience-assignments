{
 "cells": [
  {
   "cell_type": "code",
   "execution_count": 15,
   "id": "fe086085",
   "metadata": {},
   "outputs": [
    {
     "name": "stdout",
     "output_type": "stream",
     "text": [
      "enter a  number7\n",
      "its  prime number\n"
     ]
    }
   ],
   "source": [
    "# given number is prime or not\n",
    "n=int(input(\"enter a  number:\"))\n",
    "if n>1:\n",
    "    for i in range(2,n):\n",
    "         if n%i==0:\n",
    "            print(\"its not a prime number\")\n",
    "            break\n",
    "    else:\n",
    "        print(\"its  prime number\")\n",
    "else:\n",
    "    print(\"its less than 1 not a prime number\")"
   ]
  },
  {
   "cell_type": "code",
   "execution_count": 21,
   "id": "e736afd0",
   "metadata": {},
   "outputs": [
    {
     "name": "stdout",
     "output_type": "stream",
     "text": [
      "enter a string:racecar\n",
      "reverse of string:racecar\n",
      "True\n"
     ]
    }
   ],
   "source": [
    "# palindrome\n",
    "string=input(\"enter a string:\")\n",
    "rev=string[::-1]\n",
    "print(f\"reverse of string:{rev}\")\n",
    "if rev==string:\n",
    "    print(\"True\")\n",
    "else:\n",
    "    print(\"False\")"
   ]
  },
  {
   "cell_type": "code",
   "execution_count": 18,
   "id": "af57312c",
   "metadata": {},
   "outputs": [
    {
     "name": "stdout",
     "output_type": "stream",
     "text": [
      "Enter a string: This is a sample text. This text will be used to demonstrate the word counter\n",
      "this: 2\n",
      "is: 1\n",
      "a: 1\n",
      "sample: 1\n",
      "text.: 1\n",
      "text: 1\n",
      "will: 1\n",
      "be: 1\n",
      "used: 1\n",
      "to: 1\n",
      "demonstrate: 1\n",
      "the: 1\n",
      "word: 1\n",
      "counter: 1\n"
     ]
    }
   ],
   "source": [
    "# word counter\n",
    "string = input(\"Enter a string: \")\n",
    "words = string.split()\n",
    "unique = []\n",
    "\n",
    "# Create a dictionary to store occurrences\n",
    "occurrences = {}\n",
    "\n",
    "for word in words:\n",
    "    lower_word = word.lower()  # Convert to lowercase\n",
    "    if lower_word not in occurrences:\n",
    "        occurrences[lower_word] = 1  # Initialize count\n",
    "    else:\n",
    "        occurrences[lower_word] += 1  # Increment count\n",
    "\n",
    "\n",
    "for word, count in occurrences.items():\n",
    "    print(f\"{word}: {count}\")\n"
   ]
  },
  {
   "cell_type": "code",
   "execution_count": 9,
   "id": "edc3fbea",
   "metadata": {},
   "outputs": [
    {
     "name": "stdout",
     "output_type": "stream",
     "text": [
      "enter the your guess67\n",
      "Wrong guess correct answer:99,try again\n"
     ]
    }
   ],
   "source": [
    "#product of random numbers\n",
    "import random \n",
    "num1=random.randint(1,20)\n",
    "num2=random.randint(1,20)\n",
    "product=num1*num2\n",
    "user_guess=int(input(\"enter the your guess:\"))\n",
    "if user_guess==product:\n",
    "    print(\"Excellent! Great job\")\n",
    "else:\n",
    "    print(f\"Wrong guess correct answer:{product},try again\")\n",
    "    "
   ]
  },
  {
   "cell_type": "code",
   "execution_count": 17,
   "id": "a2b2c564",
   "metadata": {},
   "outputs": [
    {
     "name": "stdout",
     "output_type": "stream",
     "text": [
      "These are all even numbers squares\n",
      "100:10000\n",
      "102:10404\n",
      "104:10816\n",
      "106:11236\n",
      "108:11664\n",
      "110:12100\n",
      "112:12544\n",
      "114:12996\n",
      "116:13456\n",
      "118:13924\n",
      "120:14400\n",
      "122:14884\n",
      "124:15376\n",
      "126:15876\n",
      "128:16384\n",
      "130:16900\n",
      "132:17424\n",
      "134:17956\n",
      "136:18496\n",
      "138:19044\n",
      "140:19600\n",
      "142:20164\n",
      "144:20736\n",
      "146:21316\n",
      "148:21904\n",
      "150:22500\n",
      "152:23104\n",
      "154:23716\n",
      "156:24336\n",
      "158:24964\n",
      "160:25600\n",
      "162:26244\n",
      "164:26896\n",
      "166:27556\n",
      "168:28224\n",
      "170:28900\n",
      "172:29584\n",
      "174:30276\n",
      "176:30976\n",
      "178:31684\n",
      "180:32400\n",
      "182:33124\n",
      "184:33856\n",
      "186:34596\n",
      "188:35344\n",
      "190:36100\n",
      "192:36864\n",
      "194:37636\n",
      "196:38416\n",
      "198:39204\n",
      "200:40000\n"
     ]
    }
   ],
   "source": [
    "# sqauers of even/odd numbers\n",
    "print(\"These are all even numbers squares\")\n",
    "for i in range(100,201):\n",
    "    if i%2==0:\n",
    "        sqrs=i**2\n",
    "        print(f\"{i}:{sqrs}\")"
   ]
  },
  {
   "cell_type": "code",
   "execution_count": null,
   "id": "285a554c",
   "metadata": {},
   "outputs": [],
   "source": []
  }
 ],
 "metadata": {
  "kernelspec": {
   "display_name": "Python 3 (ipykernel)",
   "language": "python",
   "name": "python3"
  },
  "language_info": {
   "codemirror_mode": {
    "name": "ipython",
    "version": 3
   },
   "file_extension": ".py",
   "mimetype": "text/x-python",
   "name": "python",
   "nbconvert_exporter": "python",
   "pygments_lexer": "ipython3",
   "version": "3.9.13"
  }
 },
 "nbformat": 4,
 "nbformat_minor": 5
}
